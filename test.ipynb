{
 "cells": [
  {
   "cell_type": "code",
   "execution_count": 1,
   "metadata": {},
   "outputs": [],
   "source": [
    "import open3d as o3d\n",
    "import numpy as np\n",
    "import os\n",
    "import sys\n",
    "\n",
    "sys.path.append('..')"
   ]
  },
  {
   "cell_type": "code",
   "execution_count": 2,
   "metadata": {},
   "outputs": [
    {
     "name": "stdout",
     "output_type": "stream",
     "text": [
      "PointCloud with 4482701 points.\n",
      "[[  329.08828735    23.08819962   739.94317627]\n",
      " [  332.5519104     23.97890091   738.54797363]\n",
      " [  332.60549927    22.58480072   738.39868164]\n",
      " ...\n",
      " [-1083.25488281  -479.74758911  -250.69039917]\n",
      " [-1085.24255371  -479.3788147   -248.79150391]\n",
      " [-1086.08117676  -478.66110229  -247.2671051 ]]\n",
      "\u001b[1;33m[Open3D WARNING] GLFW Error: Cocoa: Failed to find service port for display\u001b[0;m\n"
     ]
    },
    {
     "name": "stderr",
     "output_type": "stream",
     "text": [
      "2024-07-28 17:39:19.915 Python[30545:492016] ApplePersistenceIgnoreState: Existing state will not be touched. New state will be written to /var/folders/cs/0p38q9jj01q8230vr6wgk1dr0000gn/T/com.apple.python3.savedState\n",
      "2024-07-28 17:39:32.151 Python[30545:492016] WARNING: Secure coding is automatically enabled for restorable state! However, not on all supported macOS versions of this application. Opt-in to secure coding explicitly by implementing NSApplicationDelegate.applicationSupportsSecureRestorableState:.\n"
     ]
    }
   ],
   "source": [
    "pcd = o3d.io.read_point_cloud(\"Buggy.ply\")\n",
    "print(pcd)\n",
    "print(np.asarray(pcd.points))\n",
    "o3d.visualization.draw_geometries([pcd])"
   ]
  },
  {
   "cell_type": "code",
   "execution_count": 2,
   "metadata": {},
   "outputs": [
    {
     "name": "stderr",
     "output_type": "stream",
     "text": [
      "2024-07-28 17:40:05.388 Python[33879:538547] ApplePersistenceIgnoreState: Existing state will not be touched. New state will be written to /var/folders/cs/0p38q9jj01q8230vr6wgk1dr0000gn/T/com.apple.python3.savedState\n",
      "[error] GLFW error: Cocoa: Failed to find service port for display\n"
     ]
    },
    {
     "name": "stdout",
     "output_type": "stream",
     "text": [
      "FEngine (64 bits) created at 0x31a698000 (threading is enabled)\n",
      "FEngine resolved backend: OpenGL\n"
     ]
    }
   ],
   "source": [
    "dataset = o3d.data.EaglePointCloud()\n",
    "pcd = o3d.io.read_point_cloud(dataset.path)\n",
    "o3d.visualization.draw(pcd)"
   ]
  }
 ],
 "metadata": {
  "kernelspec": {
   "display_name": "Python 3",
   "language": "python",
   "name": "python3"
  },
  "language_info": {
   "codemirror_mode": {
    "name": "ipython",
    "version": 3
   },
   "file_extension": ".py",
   "mimetype": "text/x-python",
   "name": "python",
   "nbconvert_exporter": "python",
   "pygments_lexer": "ipython3",
   "version": "3.9.6"
  }
 },
 "nbformat": 4,
 "nbformat_minor": 2
}
