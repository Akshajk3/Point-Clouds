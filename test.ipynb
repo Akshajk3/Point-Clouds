{
 "cells": [
  {
   "cell_type": "code",
   "execution_count": 1,
   "metadata": {},
   "outputs": [
    {
     "name": "stdout",
     "output_type": "stream",
     "text": [
      "Jupyter environment detected. Enabling Open3D WebVisualizer.\n",
      "[Open3D INFO] WebRTC GUI backend enabled.\n",
      "[Open3D INFO] WebRTCWindowSystem: HTTP handshake server disabled.\n"
     ]
    }
   ],
   "source": [
    "import open3d as o3d\n",
    "import numpy as np\n",
    "import os\n",
    "import sys\n",
    "\n",
    "sys.path.append('..')"
   ]
  },
  {
   "cell_type": "code",
   "execution_count": 3,
   "metadata": {},
   "outputs": [
    {
     "name": "stdout",
     "output_type": "stream",
     "text": [
      "PointCloud with 307199 points.\n",
      "[[-9.71566445e-05  7.28294721e-05 -1.59647068e-04]\n",
      " [-9.68525548e-05  7.28294721e-05 -1.59647068e-04]\n",
      " [-9.65484651e-05  7.28294721e-05 -1.59647068e-04]\n",
      " ...\n",
      " [ 2.14002702e-04 -1.61428810e-04 -3.53862735e-04]\n",
      " [ 2.14676726e-04 -1.61428810e-04 -3.53862735e-04]\n",
      " [ 2.15350750e-04 -1.61428810e-04 -3.53862735e-04]]\n"
     ]
    }
   ],
   "source": [
    "pcd = o3d.io.read_point_cloud(\"test.ply\")\n",
    "print(pcd)\n",
    "print(np.asarray(pcd.points))\n",
    "o3d.visualization.draw_geometries([pcd])"
   ]
  },
  {
   "cell_type": "code",
   "execution_count": 2,
   "metadata": {},
   "outputs": [
    {
     "name": "stderr",
     "output_type": "stream",
     "text": [
      "2024-07-28 17:40:05.388 Python[33879:538547] ApplePersistenceIgnoreState: Existing state will not be touched. New state will be written to /var/folders/cs/0p38q9jj01q8230vr6wgk1dr0000gn/T/com.apple.python3.savedState\n",
      "[error] GLFW error: Cocoa: Failed to find service port for display\n"
     ]
    },
    {
     "name": "stdout",
     "output_type": "stream",
     "text": [
      "FEngine (64 bits) created at 0x31a698000 (threading is enabled)\n",
      "FEngine resolved backend: OpenGL\n"
     ]
    }
   ],
   "source": [
    "dataset = o3d.data.EaglePointCloud()\n",
    "pcd = o3d.io.read_point_cloud(dataset.path)\n",
    "o3d.visualization.draw(pcd)"
   ]
  }
 ],
 "metadata": {
  "kernelspec": {
   "display_name": "Python 3",
   "language": "python",
   "name": "python3"
  },
  "language_info": {
   "codemirror_mode": {
    "name": "ipython",
    "version": 3
   },
   "file_extension": ".py",
   "mimetype": "text/x-python",
   "name": "python",
   "nbconvert_exporter": "python",
   "pygments_lexer": "ipython3",
   "version": "3.11.9"
  }
 },
 "nbformat": 4,
 "nbformat_minor": 2
}
